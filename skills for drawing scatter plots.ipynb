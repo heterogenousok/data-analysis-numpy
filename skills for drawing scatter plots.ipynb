{
 "cells": [
  {
   "cell_type": "code",
   "execution_count": null,
   "id": "e9e1d437",
   "metadata": {},
   "outputs": [],
   "source": [
    "# \n",
    "from matplotlib import pyplot as plt\n",
    "from matplotlib import font_manager\n",
    "import random\n",
    "x = range (1,32)\n",
    "# random y from 15 to 30\n",
    "y = [random.randint(15,30) for i in x]\n",
    "# size of the plot\n",
    "plt.figure(figsize=(7,5),dpi = 80)\n",
    "# use scatter\n",
    "plt.scatter(x,y,label = 'Augest')\n",
    "#  X ticks\n",
    "my_font = font_manager.FontPropperties(fname = 'C:\\Windows\\Fonts\\stsong. TTF',size = 10 )\n",
    "_xticks_labels = ['Augest {}th'.format (i) for i in x ]\n",
    "plt.xticks(x [::3],_xticks_labels[::3],fontproperties = my_font, rotation = 45)\n",
    "plt.xlabel('date' ,fontproperties = my_font)\n",
    "plt.ylabel('temp' ,fontproperties = my_font)\n",
    "# show plot\n",
    "plt.legend(prop = my_pont)\n",
    "plt. show()"
   ]
  }
 ],
 "metadata": {
  "kernelspec": {
   "display_name": "Python 3",
   "language": "python",
   "name": "python3"
  },
  "language_info": {
   "codemirror_mode": {
    "name": "ipython",
    "version": 3
   },
   "file_extension": ".py",
   "mimetype": "text/x-python",
   "name": "python",
   "nbconvert_exporter": "python",
   "pygments_lexer": "ipython3",
   "version": "3.6.8"
  }
 },
 "nbformat": 4,
 "nbformat_minor": 5
}
